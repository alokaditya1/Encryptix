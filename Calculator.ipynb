{
  "cells": [
    {
      "cell_type": "markdown",
      "metadata": {
        "colab_type": "text",
        "id": "view-in-github"
      },
      "source": [
        "<a href=\"https://colab.research.google.com/github/Galvatron-118/ENCRYPTIX/blob/main/Calculator.ipynb\" target=\"_parent\"><img src=\"https://colab.research.google.com/assets/colab-badge.svg\" alt=\"Open In Colab\"/></a>"
      ]
    },
    {
      "cell_type": "code",
      "execution_count": 22,
      "metadata": {
        "colab": {
          "base_uri": "https://localhost:8080/"
        },
        "id": "NY_YnDiHff1X",
        "outputId": "55fc57fa-2d16-4bc0-a28a-4783e8800f78"
      },
      "outputs": [
        {
          "name": "stdout",
          "output_type": "stream",
          "text": [
            "Enter First Number:\n",
            "6\n",
            "Enter Second Number:\n",
            "3\n",
            "Enter Opearion to Perform:\n",
            " 1.Addition\n",
            " 2.Subtraction\n",
            " 3.Multipliaction\n",
            " 4.Division\n",
            "4\n",
            "Result of the operation: 2.0\n"
          ]
        }
      ],
      "source": [
        "########## Made by Alok Aditya ##########\n",
        "print(\"Enter First Number:\");\n",
        "x = float(input());\n",
        "print(\"Enter Second Number:\");\n",
        "y = float(input());\n",
        "\n",
        "print(\"Enter Operation to Perform:\\n 1.Addition\\n 2.Subtraction\\n 3.Multipliaction\\n 4.Division\");\n",
        "z = input();\n",
        "\n",
        "def operation(a,b,c):\n",
        "  if c == '1':\n",
        "    return a + b\n",
        "  elif c == '2':\n",
        "    return a - b\n",
        "  elif c == '3':\n",
        "    return a * b\n",
        "  elif c == '4':\n",
        "    return a / b\n",
        "  else:\n",
        "    print(\"Invalid Input\\n\");\n",
        "    return 0\n",
        "\n",
        "print(\"Result of the operation: \" + str(operation(x,y,z)));\n",
        "\n"
      ]
    }
  ],
  "metadata": {
    "colab": {
      "authorship_tag": "ABX9TyPy8zd3ks9Z1y6V0aDZQhQZ",
      "include_colab_link": true,
      "provenance": []
    },
    "kernelspec": {
      "display_name": "Python 3",
      "name": "python3"
    },
    "language_info": {
      "name": "python"
    }
  },
  "nbformat": 4,
  "nbformat_minor": 0
}
